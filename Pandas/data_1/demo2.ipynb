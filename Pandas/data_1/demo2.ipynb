{
 "cells": [
  {
   "cell_type": "code",
   "execution_count": 1,
   "id": "85cfdaef",
   "metadata": {},
   "outputs": [],
   "source": [
    "import pandas as pd"
   ]
  },
  {
   "cell_type": "code",
   "execution_count": 2,
   "id": "c91de3be",
   "metadata": {},
   "outputs": [],
   "source": [
    "df = pd.read_csv(\"survey_results_public.csv\",index_col = 'ResponseId')\n",
    "scheme_df = pd.read_csv(\"survey_results_schema.csv\", index_col = 'qname')"
   ]
  },
  {
   "cell_type": "code",
   "execution_count": 3,
   "id": "4cfccccf",
   "metadata": {},
   "outputs": [],
   "source": [
    "high_salary = (df['ConvertedCompYearly'] > 70000)"
   ]
  },
  {
   "cell_type": "code",
   "execution_count": 4,
   "id": "c19ff3d4",
   "metadata": {},
   "outputs": [
    {
     "data": {
      "text/html": [
       "<div>\n",
       "<style scoped>\n",
       "    .dataframe tbody tr th:only-of-type {\n",
       "        vertical-align: middle;\n",
       "    }\n",
       "\n",
       "    .dataframe tbody tr th {\n",
       "        vertical-align: top;\n",
       "    }\n",
       "\n",
       "    .dataframe thead th {\n",
       "        text-align: right;\n",
       "    }\n",
       "</style>\n",
       "<table border=\"1\" class=\"dataframe\">\n",
       "  <thead>\n",
       "    <tr style=\"text-align: right;\">\n",
       "      <th></th>\n",
       "      <th>Country</th>\n",
       "      <th>LanguageHaveWorkedWith</th>\n",
       "      <th>ConvertedCompYearly</th>\n",
       "    </tr>\n",
       "    <tr>\n",
       "      <th>ResponseId</th>\n",
       "      <th></th>\n",
       "      <th></th>\n",
       "      <th></th>\n",
       "    </tr>\n",
       "  </thead>\n",
       "  <tbody>\n",
       "    <tr>\n",
       "      <th>2</th>\n",
       "      <td>United States of America</td>\n",
       "      <td>HTML/CSS;JavaScript;Python</td>\n",
       "      <td>285000.0</td>\n",
       "    </tr>\n",
       "    <tr>\n",
       "      <th>3</th>\n",
       "      <td>United States of America</td>\n",
       "      <td>Bash/Shell (all shells);Go</td>\n",
       "      <td>250000.0</td>\n",
       "    </tr>\n",
       "    <tr>\n",
       "      <th>4</th>\n",
       "      <td>United States of America</td>\n",
       "      <td>Bash/Shell (all shells);HTML/CSS;JavaScript;PH...</td>\n",
       "      <td>156000.0</td>\n",
       "    </tr>\n",
       "    <tr>\n",
       "      <th>6</th>\n",
       "      <td>United Kingdom of Great Britain and Northern I...</td>\n",
       "      <td>Bash/Shell (all shells);HTML/CSS;JavaScript;Ru...</td>\n",
       "      <td>96828.0</td>\n",
       "    </tr>\n",
       "    <tr>\n",
       "      <th>7</th>\n",
       "      <td>United States of America</td>\n",
       "      <td>Ada;Clojure;Elixir;Go;HTML/CSS;Java;JavaScript...</td>\n",
       "      <td>135000.0</td>\n",
       "    </tr>\n",
       "    <tr>\n",
       "      <th>...</th>\n",
       "      <td>...</td>\n",
       "      <td>...</td>\n",
       "      <td>...</td>\n",
       "    </tr>\n",
       "    <tr>\n",
       "      <th>89144</th>\n",
       "      <td>United States of America</td>\n",
       "      <td>C#;HTML/CSS;JavaScript;SQL;TypeScript</td>\n",
       "      <td>90000.0</td>\n",
       "    </tr>\n",
       "    <tr>\n",
       "      <th>89145</th>\n",
       "      <td>Austria</td>\n",
       "      <td>Assembly;C;C++;Lisp;Perl;Python;Raku;Ruby;Scal...</td>\n",
       "      <td>128507.0</td>\n",
       "    </tr>\n",
       "    <tr>\n",
       "      <th>89155</th>\n",
       "      <td>United States of America</td>\n",
       "      <td>HTML/CSS;JavaScript;PHP;TypeScript;Visual Basi...</td>\n",
       "      <td>75000.0</td>\n",
       "    </tr>\n",
       "    <tr>\n",
       "      <th>89157</th>\n",
       "      <td>United States of America</td>\n",
       "      <td>Bash/Shell (all shells);C;C++;JavaScript;Julia</td>\n",
       "      <td>195000.0</td>\n",
       "    </tr>\n",
       "    <tr>\n",
       "      <th>89158</th>\n",
       "      <td>Canada</td>\n",
       "      <td>Java;Kotlin</td>\n",
       "      <td>319711.0</td>\n",
       "    </tr>\n",
       "  </tbody>\n",
       "</table>\n",
       "<p>25719 rows × 3 columns</p>\n",
       "</div>"
      ],
      "text/plain": [
       "                                                      Country  \\\n",
       "ResponseId                                                      \n",
       "2                                    United States of America   \n",
       "3                                    United States of America   \n",
       "4                                    United States of America   \n",
       "6           United Kingdom of Great Britain and Northern I...   \n",
       "7                                    United States of America   \n",
       "...                                                       ...   \n",
       "89144                                United States of America   \n",
       "89145                                                 Austria   \n",
       "89155                                United States of America   \n",
       "89157                                United States of America   \n",
       "89158                                                  Canada   \n",
       "\n",
       "                                       LanguageHaveWorkedWith  \\\n",
       "ResponseId                                                      \n",
       "2                                  HTML/CSS;JavaScript;Python   \n",
       "3                                  Bash/Shell (all shells);Go   \n",
       "4           Bash/Shell (all shells);HTML/CSS;JavaScript;PH...   \n",
       "6           Bash/Shell (all shells);HTML/CSS;JavaScript;Ru...   \n",
       "7           Ada;Clojure;Elixir;Go;HTML/CSS;Java;JavaScript...   \n",
       "...                                                       ...   \n",
       "89144                   C#;HTML/CSS;JavaScript;SQL;TypeScript   \n",
       "89145       Assembly;C;C++;Lisp;Perl;Python;Raku;Ruby;Scal...   \n",
       "89155       HTML/CSS;JavaScript;PHP;TypeScript;Visual Basi...   \n",
       "89157          Bash/Shell (all shells);C;C++;JavaScript;Julia   \n",
       "89158                                             Java;Kotlin   \n",
       "\n",
       "            ConvertedCompYearly  \n",
       "ResponseId                       \n",
       "2                      285000.0  \n",
       "3                      250000.0  \n",
       "4                      156000.0  \n",
       "6                       96828.0  \n",
       "7                      135000.0  \n",
       "...                         ...  \n",
       "89144                   90000.0  \n",
       "89145                  128507.0  \n",
       "89155                   75000.0  \n",
       "89157                  195000.0  \n",
       "89158                  319711.0  \n",
       "\n",
       "[25719 rows x 3 columns]"
      ]
     },
     "execution_count": 4,
     "metadata": {},
     "output_type": "execute_result"
    }
   ],
   "source": [
    "df.loc[high_salary, ['Country', 'LanguageHaveWorkedWith','ConvertedCompYearly']]"
   ]
  },
  {
   "cell_type": "code",
   "execution_count": 5,
   "id": "71dbe16f",
   "metadata": {},
   "outputs": [],
   "source": [
    "countries = ['United States of America', 'Canada']\n",
    "filt = df['Country'].isin(countries)"
   ]
  },
  {
   "cell_type": "code",
   "execution_count": 6,
   "id": "add41d54",
   "metadata": {},
   "outputs": [
    {
     "data": {
      "text/plain": [
       "ResponseId\n",
       "1        False\n",
       "2         True\n",
       "3         True\n",
       "4         True\n",
       "5        False\n",
       "         ...  \n",
       "89180    False\n",
       "89181    False\n",
       "89182    False\n",
       "89183    False\n",
       "89184    False\n",
       "Name: Country, Length: 89184, dtype: bool"
      ]
     },
     "execution_count": 6,
     "metadata": {},
     "output_type": "execute_result"
    }
   ],
   "source": [
    "filt"
   ]
  },
  {
   "cell_type": "code",
   "execution_count": 7,
   "id": "3d4b529e",
   "metadata": {},
   "outputs": [
    {
     "data": {
      "text/plain": [
       "ResponseId\n",
       "2                               HTML/CSS;JavaScript;Python\n",
       "8        Go;HTML/CSS;JavaScript;Python;Rust;SQL;TypeScript\n",
       "10          HTML/CSS;Java;JavaScript;Python;SQL;TypeScript\n",
       "11                       C#;C++;HTML/CSS;JavaScript;Python\n",
       "12       C#;HTML/CSS;JavaScript;Kotlin;PowerShell;Pytho...\n",
       "                               ...                        \n",
       "89173    Bash/Shell (all shells);HTML/CSS;JavaScript;Pe...\n",
       "89177    HTML/CSS;Java;JavaScript;PHP;Python;SQL;TypeSc...\n",
       "89181                                 Dart;Java;Python;SQL\n",
       "89182    Assembly;Bash/Shell (all shells);C;C#;Python;R...\n",
       "89183    Bash/Shell (all shells);C#;HTML/CSS;Java;JavaS...\n",
       "Name: LanguageHaveWorkedWith, Length: 43158, dtype: object"
      ]
     },
     "execution_count": 7,
     "metadata": {},
     "output_type": "execute_result"
    }
   ],
   "source": [
    "filt = df['LanguageHaveWorkedWith'].str.contains('Python', na=False)\n",
    "df.loc[filt, 'LanguageHaveWorkedWith']"
   ]
  },
  {
   "cell_type": "code",
   "execution_count": null,
   "id": "7ef4897c",
   "metadata": {},
   "outputs": [],
   "source": []
  }
 ],
 "metadata": {
  "kernelspec": {
   "display_name": "Python 3 (ipykernel)",
   "language": "python",
   "name": "python3"
  },
  "language_info": {
   "codemirror_mode": {
    "name": "ipython",
    "version": 3
   },
   "file_extension": ".py",
   "mimetype": "text/x-python",
   "name": "python",
   "nbconvert_exporter": "python",
   "pygments_lexer": "ipython3",
   "version": "3.9.13"
  }
 },
 "nbformat": 4,
 "nbformat_minor": 5
}
